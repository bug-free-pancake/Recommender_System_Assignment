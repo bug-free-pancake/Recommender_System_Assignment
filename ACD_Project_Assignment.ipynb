{
  "cells": [
    {
      "cell_type": "markdown",
      "id": "c8dfc418-e7e8-4a48-969d-1b52b94b4768",
      "metadata": {
        "id": "c8dfc418-e7e8-4a48-969d-1b52b94b4768"
      },
      "source": [
        "**Group Project Assignment - Analysis of Customer Data (Spring)**\n",
        "\n",
        " My contribution is data distribution by timestamp in Part 1, matrix factorization-based method and model comparison in Part 2."
      ]
    },
    {
      "cell_type": "markdown",
      "id": "288aa031-8450-4111-9682-46bfeb5d2367",
      "metadata": {
        "id": "288aa031-8450-4111-9682-46bfeb5d2367"
      },
      "source": [
        "## **Assignment Setup**"
      ]
    },
    {
      "cell_type": "markdown",
      "id": "7d30b706-2108-4a99-84d3-ddb07074b961",
      "metadata": {
        "id": "7d30b706-2108-4a99-84d3-ddb07074b961"
      },
      "source": [
        "This section sets up the environment by importing all necessary libraries and packages:\n",
        "- Pandas and numpy for data manipulation\n",
        "- Seaborn for data visualization\n",
        "- Surprise for recommender system implementation"
      ]
    },
    {
      "cell_type": "code",
      "execution_count": null,
      "id": "f0ea78fe-93e5-430b-9eb3-6e1840898df8",
      "metadata": {
        "colab": {
          "base_uri": "https://localhost:8080/"
        },
        "id": "f0ea78fe-93e5-430b-9eb3-6e1840898df8",
        "outputId": "3b7a3c09-33b3-475c-8436-71a3620e6cf8"
      },
      "outputs": [
        {
          "name": "stdout",
          "output_type": "stream",
          "text": [
            "Requirement already satisfied: scikit-surprise in d:\\anaconda\\lib\\site-packages (1.1.4)\n",
            "Requirement already satisfied: joblib>=1.2.0 in d:\\anaconda\\lib\\site-packages (from scikit-surprise) (1.4.2)\n",
            "Requirement already satisfied: numpy>=1.19.5 in d:\\anaconda\\lib\\site-packages (from scikit-surprise) (1.26.4)\n",
            "Requirement already satisfied: scipy>=1.6.0 in d:\\anaconda\\lib\\site-packages (from scikit-surprise) (1.15.3)\n"
          ]
        }
      ],
      "source": [
        "!pip install scikit-surprise"
      ]
    },
    {
      "cell_type": "code",
      "execution_count": null,
      "id": "b70b28db-379b-4e5c-86f7-c5229f05b4b6",
      "metadata": {
        "id": "b70b28db-379b-4e5c-86f7-c5229f05b4b6"
      },
      "outputs": [],
      "source": [
        "import numpy as np\n",
        "import pandas as pd\n",
        "import seaborn as sns\n",
        "\n",
        "sns.set()\n",
        "sns.set_style('whitegrid')\n",
        "sns.set_context('paper', font_scale=1.6, rc={\"lines.linewidth\": 2})\n",
        "import matplotlib.pyplot as plt\n",
        "\n",
        "from surprise import Dataset\n",
        "from surprise import Reader\n",
        "from surprise import NormalPredictor\n",
        "from surprise.model_selection import cross_validate\n",
        "from surprise.model_selection import KFold\n",
        "from datetime import datetime\n",
        "import time\n",
        "from surprise import KNNWithZScore\n",
        "from surprise.model_selection import GridSearchCV\n",
        "from surprise import SVD"
      ]
    },
    {
      "cell_type": "markdown",
      "id": "p0lQDsNWf38o",
      "metadata": {
        "id": "p0lQDsNWf38o"
      },
      "source": [
        "# **Part 1: Preparing and Understanding the Dataset**\n"
      ]
    },
    {
      "cell_type": "markdown",
      "id": "c7764759-5ada-4aab-abdb-e40dab151c17",
      "metadata": {
        "id": "c7764759-5ada-4aab-abdb-e40dab151c17"
      },
      "source": [
        "## 1.1 Data loading"
      ]
    },
    {
      "cell_type": "markdown",
      "id": "10027cbe-041a-4b62-981e-10af43ef640a",
      "metadata": {
        "id": "10027cbe-041a-4b62-981e-10af43ef640a"
      },
      "source": [
        "In this section, we load the data from the CSV file and display basic statistics to check if the data has been successfully loaded and to help understand the dataset."
      ]
    },
    {
      "cell_type": "code",
      "execution_count": null,
      "id": "a95be538-351f-40e2-9022-7af0957affa1",
      "metadata": {
        "colab": {
          "base_uri": "https://localhost:8080/",
          "height": 206
        },
        "id": "a95be538-351f-40e2-9022-7af0957affa1",
        "outputId": "4dbe6ca2-4244-4e20-9ba4-18505321e659"
      },
      "outputs": [
        {
          "data": {
            "text/html": [
              "<div>\n",
              "<style scoped>\n",
              "    .dataframe tbody tr th:only-of-type {\n",
              "        vertical-align: middle;\n",
              "    }\n",
              "\n",
              "    .dataframe tbody tr th {\n",
              "        vertical-align: top;\n",
              "    }\n",
              "\n",
              "    .dataframe thead th {\n",
              "        text-align: right;\n",
              "    }\n",
              "</style>\n",
              "<table border=\"1\" class=\"dataframe\">\n",
              "  <thead>\n",
              "    <tr style=\"text-align: right;\">\n",
              "      <th></th>\n",
              "      <th>userId</th>\n",
              "      <th>movieId</th>\n",
              "      <th>rating</th>\n",
              "      <th>timestamp</th>\n",
              "    </tr>\n",
              "  </thead>\n",
              "  <tbody>\n",
              "    <tr>\n",
              "      <th>0</th>\n",
              "      <td>1</td>\n",
              "      <td>307</td>\n",
              "      <td>3.5</td>\n",
              "      <td>1256677221</td>\n",
              "    </tr>\n",
              "    <tr>\n",
              "      <th>1</th>\n",
              "      <td>1</td>\n",
              "      <td>481</td>\n",
              "      <td>3.5</td>\n",
              "      <td>1256677456</td>\n",
              "    </tr>\n",
              "    <tr>\n",
              "      <th>2</th>\n",
              "      <td>1</td>\n",
              "      <td>1091</td>\n",
              "      <td>1.5</td>\n",
              "      <td>1256677471</td>\n",
              "    </tr>\n",
              "    <tr>\n",
              "      <th>3</th>\n",
              "      <td>1</td>\n",
              "      <td>1257</td>\n",
              "      <td>4.5</td>\n",
              "      <td>1256677460</td>\n",
              "    </tr>\n",
              "    <tr>\n",
              "      <th>4</th>\n",
              "      <td>1</td>\n",
              "      <td>1449</td>\n",
              "      <td>4.5</td>\n",
              "      <td>1256677264</td>\n",
              "    </tr>\n",
              "  </tbody>\n",
              "</table>\n",
              "</div>"
            ],
            "text/plain": [
              "   userId  movieId  rating   timestamp\n",
              "0       1      307     3.5  1256677221\n",
              "1       1      481     3.5  1256677456\n",
              "2       1     1091     1.5  1256677471\n",
              "3       1     1257     4.5  1256677460\n",
              "4       1     1449     4.5  1256677264"
            ]
          },
          "execution_count": 3,
          "metadata": {},
          "output_type": "execute_result"
        }
      ],
      "source": [
        "ratings = pd.read_csv('MovieLens-Ratings.csv')\n",
        "ratings.head()"
      ]
    },
    {
      "cell_type": "markdown",
      "id": "35db3dbd-f9ba-4a85-b945-93d4e0e3d18a",
      "metadata": {
        "id": "35db3dbd-f9ba-4a85-b945-93d4e0e3d18a"
      },
      "source": [
        "The following code calculates key statistics to help us better understand the dataset in preparation for the next data filtering. We use the nunique() function to determine the number of unique users and the number of unique movies. The len() function is used to check the total number of ratings in the dataset.\n",
        "The dataset contains a total of 283,228 unique users, 53,889 unique movies, and 27,753,444 ratings. Finally, note that the column names are used to directly access and analyze the relevant features in the DataFrame."
      ]
    },
    {
      "cell_type": "code",
      "execution_count": null,
      "id": "db9e2e75-14a4-4181-bf09-906db1bd659d",
      "metadata": {
        "colab": {
          "base_uri": "https://localhost:8080/"
        },
        "id": "db9e2e75-14a4-4181-bf09-906db1bd659d",
        "outputId": "2bfd9a58-5fc5-4f4a-cad6-041d4c1fcc8d"
      },
      "outputs": [
        {
          "name": "stdout",
          "output_type": "stream",
          "text": [
            "\n",
            "Dataset Statistics:\n",
            "- Unique users: 283,228\n",
            "- Unique movies: 53,889\n",
            "- Total ratings: 27,753,444\n",
            "\n"
          ]
        }
      ],
      "source": [
        "unique_users = ratings['userId'].nunique()\n",
        "unique_movies = ratings['movieId'].nunique()\n",
        "\n",
        "print(f\"\"\"\n",
        "Dataset Statistics:\n",
        "- Unique users: {unique_users:,}\n",
        "- Unique movies: {unique_movies:,}\n",
        "- Total ratings: {len(ratings):,}\n",
        "\"\"\")"
      ]
    },
    {
      "cell_type": "markdown",
      "id": "034223d6-6c61-458a-af0b-8e67091a9ffe",
      "metadata": {
        "id": "034223d6-6c61-458a-af0b-8e67091a9ffe"
      },
      "source": [
        "## 1.2 Data exploration and analysis"
      ]
    },
    {
      "cell_type": "markdown",
      "id": "b4703e3b-d58a-48b6-b79b-698ab7e5688f",
      "metadata": {
        "id": "b4703e3b-d58a-48b6-b79b-698ab7e5688f"
      },
      "source": [
        "**Rating distribution**\n",
        "\n",
        "Users may have certain preferences when rating. Users may tend to watch and leave ratings for movies that they are interested in. Therefore, this code counts and visualizes the frequency of each score value in the rating column. Use value_counts() to get the number of ratings corresponding to each rating value, and then use sort_index() to ensure that the ratings are sorted from low to high.\n",
        "\n",
        "From the generated bar chart, the rating distribution is not uniform, but clearly skewed towards high scores: movies with a rating of 4.0 are the most, with nearly 7.5 million ratings. This distribution pattern is a typical positively skewed distribution (users tend to give high scores), which is very common in recommendation systems and also indicates that the data is non-uniform and non-normally distributed."
      ]
    },
    {
      "cell_type": "code",
      "execution_count": null,
      "id": "eb2fb4da-dacc-4fed-b91f-c4b7de5c8922",
      "metadata": {
        "colab": {
          "base_uri": "https://localhost:8080/",
          "height": 532
        },
        "id": "eb2fb4da-dacc-4fed-b91f-c4b7de5c8922",
        "outputId": "850e82dd-fd8f-4f89-d345-a4146b7c8695"
      },
      "outputs": [
        {
          "data": {
            "image/png": "[encoded data removed]",
            "text/plain": [
              "<Figure size 800x550 with 1 Axes>"
            ]
          },
          "metadata": {},
          "output_type": "display_data"
        }
      ],
      "source": [
        "def plot_rating_distribution(data):\n",
        "    plt.figure(figsize=(8, 5.5))\n",
        "    rating_counts = data['rating'].value_counts().sort_index()\n",
        "    sns.barplot(x=rating_counts.index, y=rating_counts.values)\n",
        "    plt.title('Distribution of Movie Ratings', fontsize=12)\n",
        "    plt.xlabel('Rating', fontsize=10)\n",
        "    plt.ylabel('Count', fontsize=10)\n",
        "    plt.show()\n",
        "\n",
        "plot_rating_distribution(ratings)"
      ]
    },
    {
      "cell_type": "markdown",
      "id": "dumCJ8Syl15x",
      "metadata": {
        "id": "dumCJ8Syl15x"
      },
      "source": [
        "**The distribution of ratings over the years**\n",
        "\n",
        "The user preferences for movies might change over time, as new productions are released each year. Time relevance is important if we need to build an up-to-date recommendation system. Meanwhile, time is also implicit information that can be modeled into the recommender system, such as in timeSVD++. Therefore, it might be helpful to examine the time span of the dataset and the distribution of ratings over time. From the data, the ratings start from early 1995 till 2018, covering a long period of over two decades. The distribution of the ratings shows notable peaks around 1997, 2000, and 2016, with a significant decrease between 1998 and 2000. The distribution stabilized from 2002 to 2014. Following the peak around 2016, the users remained active in the subsequent years.\n",
        "\n"
      ]
    },
    {
      "cell_type": "code",
      "execution_count": null,
      "id": "XJUUD8e5n70i",
      "metadata": {
        "colab": {
          "base_uri": "https://localhost:8080/",
          "height": 206
        },
        "id": "XJUUD8e5n70i",
        "outputId": "92809ee8-4d76-4746-d93d-c7d8383e1846"
      },
      "outputs": [
        {
          "data": {
            "application/vnd.google.colaboratory.intrinsic+json": {
              "type": "dataframe",
              "variable_name": "ratings"
            },
            "text/html": [
              "\n",
              "  <div id=\"df-ae45e66b-b62a-48b4-855b-76da9bb30b98\" class=\"colab-df-container\">\n",
              "    <div>\n",
              "<style scoped>\n",
              "    .dataframe tbody tr th:only-of-type {\n",
              "        vertical-align: middle;\n",
              "    }\n",
              "\n",
              "    .dataframe tbody tr th {\n",
              "        vertical-align: top;\n",
              "    }\n",
              "\n",
              "    .dataframe thead th {\n",
              "        text-align: right;\n",
              "    }\n",
              "</style>\n",
              "<table border=\"1\" class=\"dataframe\">\n",
              "  <thead>\n",
              "    <tr style=\"text-align: right;\">\n",
              "      <th></th>\n",
              "      <th>userId</th>\n",
              "      <th>movieId</th>\n",
              "      <th>rating</th>\n",
              "      <th>timestamp</th>\n",
              "      <th>date</th>\n",
              "    </tr>\n",
              "  </thead>\n",
              "  <tbody>\n",
              "    <tr>\n",
              "      <th>0</th>\n",
              "      <td>1</td>\n",
              "      <td>307</td>\n",
              "      <td>3.5</td>\n",
              "      <td>1256677221</td>\n",
              "      <td>2009-10-27 21:00:21</td>\n",
              "    </tr>\n",
              "    <tr>\n",
              "      <th>1</th>\n",
              "      <td>1</td>\n",
              "      <td>481</td>\n",
              "      <td>3.5</td>\n",
              "      <td>1256677456</td>\n",
              "      <td>2009-10-27 21:04:16</td>\n",
              "    </tr>\n",
              "    <tr>\n",
              "      <th>2</th>\n",
              "      <td>1</td>\n",
              "      <td>1091</td>\n",
              "      <td>1.5</td>\n",
              "      <td>1256677471</td>\n",
              "      <td>2009-10-27 21:04:31</td>\n",
              "    </tr>\n",
              "    <tr>\n",
              "      <th>3</th>\n",
              "      <td>1</td>\n",
              "      <td>1257</td>\n",
              "      <td>4.5</td>\n",
              "      <td>1256677460</td>\n",
              "      <td>2009-10-27 21:04:20</td>\n",
              "    </tr>\n",
              "    <tr>\n",
              "      <th>4</th>\n",
              "      <td>1</td>\n",
              "      <td>1449</td>\n",
              "      <td>4.5</td>\n",
              "      <td>1256677264</td>\n",
              "      <td>2009-10-27 21:01:04</td>\n",
              "    </tr>\n",
              "  </tbody>\n",
              "</table>\n",
              "</div>\n",
              "    <div class=\"colab-df-buttons\">\n",
              "\n",
              "  <div class=\"colab-df-container\">\n",
              "    <button class=\"colab-df-convert\" onclick=\"convertToInteractive('df-ae45e66b-b62a-48b4-855b-76da9bb30b98')\"\n",
              "            title=\"Convert this dataframe to an interactive table.\"\n",
              "            style=\"display:none;\">\n",
              "\n",
              "  <svg xmlns=\"http://www.w3.org/2000/svg\" height=\"24px\" viewBox=\"0 -960 960 960\">\n",
              "    <path d=\"M120-120v-720h720v720H120Zm60-500h600v-160H180v160Zm220 220h160v-160H400v160Zm0 220h160v-160H400v160ZM180-400h160v-160H180v160Zm440 0h160v-160H620v160ZM180-180h160v-160H180v160Zm440 0h160v-160H620v160Z\"/>\n",
              "  </svg>\n",
              "    </button>\n",
              "\n",
              "  <style>\n",
              "    .colab-df-container {\n",
              "      display:flex;\n",
              "      gap: 12px;\n",
              "    }\n",
              "\n",
              "    .colab-df-convert {\n",
              "      background-color: #E8F0FE;\n",
              "      border: none;\n",
              "      border-radius: 50%;\n",
              "      cursor: pointer;\n",
              "      display: none;\n",
              "      fill: #1967D2;\n",
              "      height: 32px;\n",
              "      padding: 0 0 0 0;\n",
              "      width: 32px;\n",
              "    }\n",
              "\n",
              "    .colab-df-convert:hover {\n",
              "      background-color: #E2EBFA;\n",
              "      box-shadow: 0px 1px 2px rgba(60, 64, 67, 0.3), 0px 1px 3px 1px rgba(60, 64, 67, 0.15);\n",
              "      fill: #174EA6;\n",
              "    }\n",
              "\n",
              "    .colab-df-buttons div {\n",
              "      margin-bottom: 4px;\n",
              "    }\n",
              "\n",
              "    [theme=dark] .colab-df-convert {\n",
              "      background-color: #3B4455;\n",
              "      fill: #D2E3FC;\n",
              "    }\n",
              "\n",
              "    [theme=dark] .colab-df-convert:hover {\n",
              "      background-color: #434B5C;\n",
              "      box-shadow: 0px 1px 3px 1px rgba(0, 0, 0, 0.15);\n",
              "      filter: drop-shadow(0px 1px 2px rgba(0, 0, 0, 0.3));\n",
              "      fill: #FFFFFF;\n",
              "    }\n",
              "  </style>\n",
              "\n",
              "    <script>\n",
              "      const buttonEl =\n",
              "        document.querySelector('#df-ae45e66b-b62a-48b4-855b-76da9bb30b98 button.colab-df-convert');\n",
              "      buttonEl.style.display =\n",
              "        google.colab.kernel.accessAllowed ? 'block' : 'none';\n",
              "\n",
              "      async function convertToInteractive(key) {\n",
              "        const element = document.querySelector('#df-ae45e66b-b62a-48b4-855b-76da9bb30b98');\n",
              "        const dataTable =\n",
              "          await google.colab.kernel.invokeFunction('convertToInteractive',\n",
              "                                                    [key], {});\n",
              "        if (!dataTable) return;\n",
              "\n",
              "        const docLinkHtml = 'Like what you see? Visit the ' +\n",
              "          '<a target=\"_blank\" href=https://colab.research.google.com/notebooks/data_table.ipynb>data table notebook</a>'\n",
              "          + ' to learn more about interactive tables.';\n",
              "        element.innerHTML = '';\n",
              "        dataTable['output_type'] = 'display_data';\n",
              "        await google.colab.output.renderOutput(dataTable, element);\n",
              "        const docLink = document.createElement('div');\n",
              "        docLink.innerHTML = docLinkHtml;\n",
              "        element.appendChild(docLink);\n",
              "      }\n",
              "    </script>\n",
              "  </div>\n",
              "\n",
              "\n",
              "    <div id=\"df-48462a7e-9ae2-4c15-b87b-6e70508e0621\">\n",
              "      <button class=\"colab-df-quickchart\" onclick=\"quickchart('df-48462a7e-9ae2-4c15-b87b-6e70508e0621')\"\n",
              "                title=\"Suggest charts\"\n",
              "                style=\"display:none;\">\n",
              "\n",
              "<svg xmlns=\"http://www.w3.org/2000/svg\" height=\"24px\"viewBox=\"0 0 24 24\"\n",
              "     width=\"24px\">\n",
              "    <g>\n",
              "        <path d=\"M19 3H5c-1.1 0-2 .9-2 2v14c0 1.1.9 2 2 2h14c1.1 0 2-.9 2-2V5c0-1.1-.9-2-2-2zM9 17H7v-7h2v7zm4 0h-2V7h2v10zm4 0h-2v-4h2v4z\"/>\n",
              "    </g>\n",
              "</svg>\n",
              "      </button>\n",
              "\n",
              "<style>\n",
              "  .colab-df-quickchart {\n",
              "      --bg-color: #E8F0FE;\n",
              "      --fill-color: #1967D2;\n",
              "      --hover-bg-color: #E2EBFA;\n",
              "      --hover-fill-color: #174EA6;\n",
              "      --disabled-fill-color: #AAA;\n",
              "      --disabled-bg-color: #DDD;\n",
              "  }\n",
              "\n",
              "  [theme=dark] .colab-df-quickchart {\n",
              "      --bg-color: #3B4455;\n",
              "      --fill-color: #D2E3FC;\n",
              "      --hover-bg-color: #434B5C;\n",
              "      --hover-fill-color: #FFFFFF;\n",
              "      --disabled-bg-color: #3B4455;\n",
              "      --disabled-fill-color: #666;\n",
              "  }\n",
              "\n",
              "  .colab-df-quickchart {\n",
              "    background-color: var(--bg-color);\n",
              "    border: none;\n",
              "    border-radius: 50%;\n",
              "    cursor: pointer;\n",
              "    display: none;\n",
              "    fill: var(--fill-color);\n",
              "    height: 32px;\n",
              "    padding: 0;\n",
              "    width: 32px;\n",
              "  }\n",
              "\n",
              "  .colab-df-quickchart:hover {\n",
              "    background-color: var(--hover-bg-color);\n",
              "    box-shadow: 0 1px 2px rgba(60, 64, 67, 0.3), 0 1px 3px 1px rgba(60, 64, 67, 0.15);\n",
              "    fill: var(--button-hover-fill-color);\n",
              "  }\n",
              "\n",
              "  .colab-df-quickchart-complete:disabled,\n",
              "  .colab-df-quickchart-complete:disabled:hover {\n",
              "    background-color: var(--disabled-bg-color);\n",
              "    fill: var(--disabled-fill-color);\n",
              "    box-shadow: none;\n",
              "  }\n",
              "\n",
              "  .colab-df-spinner {\n",
              "    border: 2px solid var(--fill-color);\n",
              "    border-color: transparent;\n",
              "    border-bottom-color: var(--fill-color);\n",
              "    animation:\n",
              "      spin 1s steps(1) infinite;\n",
              "  }\n",
              "\n",
              "  @keyframes spin {\n",
              "    0% {\n",
              "      border-color: transparent;\n",
              "      border-bottom-color: var(--fill-color);\n",
              "      border-left-color: var(--fill-color);\n",
              "    }\n",
              "    20% {\n",
              "      border-color: transparent;\n",
              "      border-left-color: var(--fill-color);\n",
              "      border-top-color: var(--fill-color);\n",
              "    }\n",
              "    30% {\n",
              "      border-color: transparent;\n",
              "      border-left-color: var(--fill-color);\n",
              "      border-top-color: var(--fill-color);\n",
              "      border-right-color: var(--fill-color);\n",
              "    }\n",
              "    40% {\n",
              "      border-color: transparent;\n",
              "      border-right-color: var(--fill-color);\n",
              "      border-top-color: var(--fill-color);\n",
              "    }\n",
              "    60% {\n",
              "      border-color: transparent;\n",
              "      border-right-color: var(--fill-color);\n",
              "    }\n",
              "    80% {\n",
              "      border-color: transparent;\n",
              "      border-right-color: var(--fill-color);\n",
              "      border-bottom-color: var(--fill-color);\n",
              "    }\n",
              "    90% {\n",
              "      border-color: transparent;\n",
              "      border-bottom-color: var(--fill-color);\n",
              "    }\n",
              "  }\n",
              "</style>\n",
              "\n",
              "      <script>\n",
              "        async function quickchart(key) {\n",
              "          const quickchartButtonEl =\n",
              "            document.querySelector('#' + key + ' button');\n",
              "          quickchartButtonEl.disabled = true;  // To prevent multiple clicks.\n",
              "          quickchartButtonEl.classList.add('colab-df-spinner');\n",
              "          try {\n",
              "            const charts = await google.colab.kernel.invokeFunction(\n",
              "                'suggestCharts', [key], {});\n",
              "          } catch (error) {\n",
              "            console.error('Error during call to suggestCharts:', error);\n",
              "          }\n",
              "          quickchartButtonEl.classList.remove('colab-df-spinner');\n",
              "          quickchartButtonEl.classList.add('colab-df-quickchart-complete');\n",
              "        }\n",
              "        (() => {\n",
              "          let quickchartButtonEl =\n",
              "            document.querySelector('#df-48462a7e-9ae2-4c15-b87b-6e70508e0621 button');\n",
              "          quickchartButtonEl.style.display =\n",
              "            google.colab.kernel.accessAllowed ? 'block' : 'none';\n",
              "        })();\n",
              "      </script>\n",
              "    </div>\n",
              "\n",
              "    </div>\n",
              "  </div>\n"
            ],
            "text/plain": [
              "   userId  movieId  rating   timestamp                date\n",
              "0       1      307     3.5  1256677221 2009-10-27 21:00:21\n",
              "1       1      481     3.5  1256677456 2009-10-27 21:04:16\n",
              "2       1     1091     1.5  1256677471 2009-10-27 21:04:31\n",
              "3       1     1257     4.5  1256677460 2009-10-27 21:04:20\n",
              "4       1     1449     4.5  1256677264 2009-10-27 21:01:04"
            ]
          },
          "execution_count": 9,
          "metadata": {},
          "output_type": "execute_result"
        }
      ],
      "source": [
        "# convert timestamp to datetime\n",
        "ratings['date'] = ratings['timestamp'].apply(datetime.fromtimestamp)\n",
        "ratings.head()"
      ]
    },
    {
      "cell_type": "code",
      "execution_count": null,
      "id": "mn03RMhFbdPa",
      "metadata": {
        "colab": {
          "base_uri": "https://localhost:8080/"
        },
        "id": "mn03RMhFbdPa",
        "outputId": "d9cb2fa7-f1a6-45d9-ee97-6997d073e4e1"
      },
      "outputs": [
        {
          "name": "stdout",
          "output_type": "stream",
          "text": [
            "The ratings cover a period from 1995-01-09 to 2018-09-26.\n"
          ]
        }
      ],
      "source": [
        "# get the earliest and the latest ratings\n",
        "earliest = np.min(ratings['date']).date()\n",
        "latest = np.max(ratings['date']).date()\n",
        "print('The ratings cover a period from {} to {}.'.format(earliest, latest))"
      ]
    },
    {
      "cell_type": "code",
      "execution_count": null,
      "id": "8SUKBADioHu4",
      "metadata": {
        "colab": {
          "base_uri": "https://localhost:8080/",
          "height": 540
        },
        "id": "8SUKBADioHu4",
        "outputId": "178c618b-09c1-4afb-a13c-39492d012c95"
      },
      "outputs": [
        {
          "data": {
            "image/png": "[encoded data removed]",
            "text/plain": [
              "<Figure size 800x550 with 1 Axes>"
            ]
          },
          "metadata": {},
          "output_type": "display_data"
        }
      ],
      "source": [
        "# plot the distribution of ratings over the years\n",
        "plt.figure(figsize=(8,5.5))\n",
        "sns.histplot(ratings['date'], kde=True)\n",
        "plt.title('Distribution of Ratings by Year', fontsize=12)\n",
        "plt.xlabel('Year', fontsize=10)\n",
        "plt.ylabel('Number of Ratings', fontsize=10)\n",
        "plt.xticks(rotation=45)\n",
        "plt.tight_layout()\n",
        "plt.show()"
      ]
    },
    {
      "cell_type": "markdown",
      "id": "a87327a5-c35a-4103-8cfd-7c7bc0fe33bd",
      "metadata": {
        "id": "a87327a5-c35a-4103-8cfd-7c7bc0fe33bd"
      },
      "source": [
        "**User rating activity**\n",
        "\n",
        "Most users are likely to contribute only a few ratings. Users with few ratings may lack personalized information, while a small number of highly active users dominate the dataset. By counting the number of ratings for each user, a distribution histogram of the number of ratings is plotted using logarithmic coordinates. There are obvious spikes in the number of ratings, which may be due to the rating tasks set by the platform (such as \"rating 10 times to unlock features\"). This skewed activity distribution brings challenges such as data sparsity and cold start problems.\n"
      ]
    },
    {
      "cell_type": "code",
      "execution_count": null,
      "id": "306cedf4-244f-4031-a5a2-4fe0f1fb23a6",
      "metadata": {
        "colab": {
          "base_uri": "https://localhost:8080/",
          "height": 543
        },
        "id": "306cedf4-244f-4031-a5a2-4fe0f1fb23a6",
        "outputId": "c22bfd0c-2cff-491b-84a3-267f25e404a1"
      },
      "outputs": [
        {
          "data": {
            "image/png": "[encoded data removed]",
            "text/plain": [
              "<Figure size 800x550 with 1 Axes>"
            ]
          },
          "metadata": {},
          "output_type": "display_data"
        }
      ],
      "source": [
        "def plot_user_rating_activity(data):\n",
        "    user_counts = data['userId'].value_counts()\n",
        "    plt.figure(figsize=(8, 5.5))\n",
        "    sns.histplot(user_counts, bins=200, log_scale=True)\n",
        "    plt.title('Ratings per User (Log Scale)')\n",
        "    plt.xlabel('Number of Ratings')\n",
        "    plt.ylabel('Number of Users')\n",
        "    plt.show()\n",
        "\n",
        "plot_user_rating_activity(ratings)"
      ]
    },
    {
      "cell_type": "markdown",
      "id": "6cde8cfe-06e4-46ec-a9f5-edfc13657f47",
      "metadata": {
        "id": "6cde8cfe-06e4-46ec-a9f5-edfc13657f47"
      },
      "source": [
        "**The density distribution of movie ratings**\n",
        "\n",
        "The number of ratings received by each movie may be uneven, with a small number of movies being frequently rated and most movies being almost unrated. The KDE histogram of movieId shows that the distribution of movie popularity is highly skewed and sparse. A small number of movies (usually those with lower IDs) receive a large number of ratings, which may reflect their mainstream or popular status. In contrast, the vast majority of movies are rated very infrequently. The common long-tail phenomenon is present in the dataset."
      ]
    },
    {
      "cell_type": "code",
      "execution_count": null,
      "id": "2aa9cbda-7790-4c81-866a-16f49f55bba5",
      "metadata": {
        "colab": {
          "base_uri": "https://localhost:8080/",
          "height": 516
        },
        "id": "2aa9cbda-7790-4c81-866a-16f49f55bba5",
        "outputId": "44f5e0a9-106b-4a4f-8242-419df8262e52"
      },
      "outputs": [
        {
          "data": {
            "image/png": "[encoded data removed]",
            "text/plain": [
              "<Figure size 800x550 with 1 Axes>"
            ]
          },
          "metadata": {},
          "output_type": "display_data"
        }
      ],
      "source": [
        "def plot_density(data):\n",
        "    fig, ax = plt.subplots(figsize=(8,5.5))\n",
        "    plot = sns.histplot(data['movieId'], kde=True, ax=ax)\n",
        "\n",
        "plot_density(ratings)"
      ]
    },
    {
      "cell_type": "markdown",
      "id": "39bcc0e6-2014-45b3-9147-4e4a89fdd8cd",
      "metadata": {
        "id": "39bcc0e6-2014-45b3-9147-4e4a89fdd8cd"
      },
      "source": [
        "**Explanation on the following plots:**  \n",
        "\n",
        "Plot 1: After filtering, most users are still concentrated in a small number of ratings (< 100), but the tail users are retained, indicating a reasonable distribution.\n",
        "\n",
        "Plot 2: The long-tail phenomenon is obvious, which is in line with the law of ‘a few films are widely rated’ in real data. The middle density is retained after filtering, which is a good dataset for model building."
      ]
    },
    {
      "cell_type": "code",
      "execution_count": null,
      "id": "854ffc83-595d-41c8-a956-bc731816b38b",
      "metadata": {
        "colab": {
          "base_uri": "https://localhost:8080/",
          "height": 1000
        },
        "id": "854ffc83-595d-41c8-a956-bc731816b38b",
        "outputId": "1b3ed123-6368-4f3b-8beb-bf7581458fea"
      },
      "outputs": [
        {
          "data": {
            "image/png": "[encoded data removed]",
            "text/plain": [
              "<Figure size 800x550 with 1 Axes>"
            ]
          },
          "metadata": {},
          "output_type": "display_data"
        },
        {
          "data": {
            "image/png": "[encoded data removed]",
            "text/plain": [
              "<Figure size 800x550 with 1 Axes>"
            ]
          },
          "metadata": {},
          "output_type": "display_data"
        }
      ],
      "source": [
        "# Defining Plotting Functions\n",
        "def plot_user_rating_activity(data):\n",
        "    user_counts = data['userId'].value_counts()\n",
        "    plt.figure(figsize=(8, 5.5))\n",
        "    sns.histplot(user_counts, bins=200, log_scale=True)\n",
        "    plt.title('Ratings per User (Log Scale)')\n",
        "    plt.xlabel('Number of Ratings')\n",
        "    plt.ylabel('Number of Users')\n",
        "    plt.show()\n",
        "\n",
        "def plot_rating_density(data):\n",
        "    rating_counts = data['movieId'].value_counts()\n",
        "    fig, ax = plt.subplots(figsize=(8, 5.5))\n",
        "    sns.histplot(x=rating_counts.values, kde=True, bins=30, ax=ax)\n",
        "    ax.set_title('Distribution of Movie Rating Counts')\n",
        "    ax.set_xlabel('Number of Ratings per Movie')\n",
        "    ax.set_ylabel('Density')\n",
        "    plt.show()\n",
        "\n",
        "# user filters: number of ratings ≥10, eliminate users who have barely engaged with ratings to avoid too much noise\n",
        "user_counts = ratings['userId'].value_counts()\n",
        "valid_users = user_counts[user_counts >= 10].index\n",
        "filtered_ratings = ratings[ratings['userId'].isin(valid_users)]\n",
        "\n",
        "# movie filters: reviews between 100 and 5000 times, excluding extremely cold movies (ratings < 100) to prevent sparsity from affecting similarity calculation later and excluding extremely popular movies (number of ratings > 5000) to avoidpopular movies from dominating the recommendations and improving diversity\n",
        "movie_counts = filtered_ratings['movieId'].value_counts()\n",
        "valid_movies = movie_counts[(movie_counts >= 100) & (movie_counts <= 5000)].index\n",
        "final_ratings = filtered_ratings[filtered_ratings['movieId'].isin(valid_movies)]\n",
        "\n",
        "# generate EDA charts\n",
        "plot_user_rating_activity(final_ratings)\n",
        "plot_rating_density(final_ratings)"
      ]
    },
    {
      "cell_type": "markdown",
      "id": "e714aa80-561b-4d08-94f1-a8ef6f7de05b",
      "metadata": {
        "id": "e714aa80-561b-4d08-94f1-a8ef6f7de05b"
      },
      "source": [
        "## 1.3 Preparing the data\n",
        "Preparing the data to run the algorithms."
      ]
    },
    {
      "cell_type": "markdown",
      "id": "76f7fcec-2235-41d7-97b1-e797a0ade89b",
      "metadata": {
        "id": "76f7fcec-2235-41d7-97b1-e797a0ade89b"
      },
      "source": [
        "**Stratified sampling by users: 10% randomly selected from all users. The reasons are as follows:**\n",
        "1. Reduce data size by sampling to avoid excessive computational cost, facilitating debugging and rapid model validation later.\n",
        "2. Preserve the user behavior structure, thus preventing distortion caused by random sampling."
      ]
    },
    {
      "cell_type": "code",
      "execution_count": null,
      "id": "fc067176-8a83-464b-8270-40b871b7ef83",
      "metadata": {
        "id": "fc067176-8a83-464b-8270-40b871b7ef83"
      },
      "outputs": [],
      "source": [
        "# Stratified sampling by users: 10% randomly selected from all users.\n",
        "unique_users = final_ratings['userId'].unique()\n",
        "sampled_users = pd.Series(unique_users).sample(frac=0.1, random_state=42)\n",
        "\n",
        "# Filter all rating records for these users; the structure of the rating distribution is preserved.\n",
        "sampled_ratings = final_ratings[final_ratings['userId'].isin(sampled_users)]"
      ]
    },
    {
      "cell_type": "code",
      "execution_count": null,
      "id": "e66d8e89-d604-4932-9a03-00d875cdfee7",
      "metadata": {
        "colab": {
          "base_uri": "https://localhost:8080/"
        },
        "id": "e66d8e89-d604-4932-9a03-00d875cdfee7",
        "outputId": "a1144a78-6f8e-4dfb-f8aa-9a9afee50af2"
      },
      "outputs": [
        {
          "name": "stdout",
          "output_type": "stream",
          "text": [
            "Sampled ratings: 826369\n",
            "Sampled users: 19228\n",
            "Sample movies: 9146\n"
          ]
        }
      ],
      "source": [
        "# print sampled statistics\n",
        "print(\"Sampled ratings:\", sampled_ratings.shape[0])\n",
        "print(\"Sampled users:\", sampled_ratings['userId'].nunique())\n",
        "print(\"Sample movies:\", sampled_ratings['movieId'].nunique())"
      ]
    },
    {
      "cell_type": "code",
      "execution_count": null,
      "id": "5cf6ae28-879e-47f6-86a8-cbcc1f86b298",
      "metadata": {
        "id": "5cf6ae28-879e-47f6-86a8-cbcc1f86b298"
      },
      "outputs": [],
      "source": [
        "# Preparing the data based on the range of ratings\n",
        "min_rating = sampled_ratings['rating'].min()\n",
        "max_rating = sampled_ratings['rating'].max()\n",
        "reader = Reader(rating_scale=(min_rating, max_rating))\n",
        "\n",
        "data = Dataset.load_from_df(sampled_ratings[['userId', 'movieId', 'rating']], reader)\n",
        "\n",
        "# k-fold cross-validation\n",
        "cv = KFold(n_splits=5, random_state=42, shuffle=True)"
      ]
    },
    {
      "cell_type": "markdown",
      "id": "90063dfb-20d4-42cc-8660-4a0e0d679c5e",
      "metadata": {
        "id": "90063dfb-20d4-42cc-8660-4a0e0d679c5e"
      },
      "source": [
        "## 1.4 NormalPredictor method - baseline"
      ]
    },
    {
      "cell_type": "markdown",
      "id": "5d69e967-2527-478d-9683-2c2895d5be59",
      "metadata": {
        "id": "5d69e967-2527-478d-9683-2c2895d5be59"
      },
      "source": [
        "We use the NormalPredictor as the baseline, and to compare and assess the performance of selected algorithms."
      ]
    },
    {
      "cell_type": "code",
      "execution_count": null,
      "id": "dfbf9dd8-812d-40e7-97e8-2065c9e2fa8f",
      "metadata": {
        "colab": {
          "base_uri": "https://localhost:8080/"
        },
        "id": "dfbf9dd8-812d-40e7-97e8-2065c9e2fa8f",
        "outputId": "16ea1df3-1acb-47b7-fc0a-3ea997fa82d0"
      },
      "outputs": [
        {
          "name": "stdout",
          "output_type": "stream",
          "text": [
            "Evaluating RMSE of algorithm NormalPredictor on 5 split(s).\n",
            "\n",
            "                  Fold 1  Fold 2  Fold 3  Fold 4  Fold 5  Mean    Std     \n",
            "RMSE (testset)    1.5007  1.4991  1.4999  1.4962  1.5033  1.4998  0.0023  \n",
            "Fit time          0.74    0.92    0.94    0.90    0.93    0.89    0.08    \n",
            "Test time         1.02    1.23    1.01    0.98    1.06    1.06    0.09    \n"
          ]
        }
      ],
      "source": [
        "# Baseline: NormalPredictor\n",
        "algo_baseline = NormalPredictor()\n",
        "results_baseline = cross_validate(algo_baseline, data, measures=['RMSE'], cv=cv, verbose=True)"
      ]
    },
    {
      "cell_type": "code",
      "execution_count": null,
      "id": "63f1eee7-4dfc-4aee-9749-5ed55745dbbb",
      "metadata": {
        "colab": {
          "base_uri": "https://localhost:8080/"
        },
        "id": "63f1eee7-4dfc-4aee-9749-5ed55745dbbb",
        "outputId": "bfabbfac-ce51-47b6-9a88-10c73ea63234"
      },
      "outputs": [
        {
          "name": "stdout",
          "output_type": "stream",
          "text": [
            "Baseline: NormalPredictor\n",
            "Average RMSE: 1.5007\n"
          ]
        }
      ],
      "source": [
        "print(\"Baseline: NormalPredictor\")\n",
        "print(\"Average RMSE:\", round(results_baseline['test_rmse'].mean(), 4))"
      ]
    },
    {
      "cell_type": "markdown",
      "id": "HDMxHEgOf_tS",
      "metadata": {
        "id": "HDMxHEgOf_tS"
      },
      "source": [
        "# **Part 2: Describing, Configuring and Comparing the Selected Algorithms against the Baseline**"
      ]
    },
    {
      "cell_type": "markdown",
      "id": "eb3phAn-b5hl",
      "metadata": {
        "id": "eb3phAn-b5hl"
      },
      "source": [
        "# 2.1 Neighborhood method - KNNWithZScore\n",
        "\n",
        "KNNWithZScore algorithm belongs to the neighborhood-based methods family.\n",
        "It uses the Z-score normalization to adjust each rating based on the mean and standard deviation of the corresponding user or item, thereby correcting for individual rating tendencies.</span>\n",
        "\n",
        "<ul>\n",
        "  <li>It computes similarity metrics between users or items.</li>\n",
        "  <li>It finds the k most similar users (neighbors) to the target user.</li>\n",
        "  <li>It adjusts ratings by accounting for each user's mean and standard deviation to eliminate differences in rating scales between users.</li>\n",
        "</ul>"
      ]
    },
    {
      "cell_type": "code",
      "execution_count": null,
      "id": "ABi2KEJhb5hl",
      "metadata": {
        "colab": {
          "base_uri": "https://localhost:8080/"
        },
        "id": "ABi2KEJhb5hl",
        "outputId": "598e4b00-a57f-4d33-dc5b-de157b2a434e"
      },
      "outputs": [
        {
          "name": "stdout",
          "output_type": "stream",
          "text": [
            "Computing the cosine similarity matrix...\n",
            "Done computing similarity matrix.\n",
            "Computing the cosine similarity matrix...\n",
            "Done computing similarity matrix.\n",
            "Computing the cosine similarity matrix...\n",
            "Done computing similarity matrix.\n",
            "Computing the cosine similarity matrix...\n",
            "Done computing similarity matrix.\n",
            "Computing the cosine similarity matrix...\n",
            "Done computing similarity matrix.\n",
            "Evaluating RMSE of algorithm KNNWithZScore on 5 split(s).\n",
            "\n",
            "                  Fold 1  Fold 2  Fold 3  Fold 4  Fold 5  Mean    Std     \n",
            "RMSE (testset)    1.0257  1.0260  1.0269  1.0212  1.0273  1.0254  0.0022  \n",
            "Fit time          26.34   26.79   27.06   26.96   26.78   26.79   0.25    \n",
            "Test time         22.06   22.30   21.87   21.35   22.28   21.97   0.35    \n"
          ]
        }
      ],
      "source": [
        "# Configuration 1: user-based, cosine similarity, k=3\n",
        "\n",
        "sim_options_1 = {\n",
        "    'name': 'cosine',\n",
        "    'user_based': True\n",
        "}\n",
        "algo1 = KNNWithZScore(k=3, sim_options=sim_options_1)\n",
        "results1 = cross_validate(algo1, data, measures=['RMSE'], cv=cv, verbose=True)"
      ]
    },
    {
      "cell_type": "code",
      "execution_count": null,
      "id": "qF1ai3Xxb5hl",
      "metadata": {
        "colab": {
          "base_uri": "https://localhost:8080/"
        },
        "id": "qF1ai3Xxb5hl",
        "outputId": "8463b67e-1672-4900-f57c-98b594dee414"
      },
      "outputs": [
        {
          "name": "stdout",
          "output_type": "stream",
          "text": [
            "Configuration 1: User-based, Cosine, k=3\n",
            "Average RMSE: 1.0254\n"
          ]
        }
      ],
      "source": [
        "print(\"Configuration 1: User-based, Cosine, k=3\")\n",
        "print(\"Average RMSE:\", round(results1['test_rmse'].mean(), 4))"
      ]
    },
    {
      "cell_type": "markdown",
      "id": "RCqmtRbLb5hm",
      "metadata": {
        "id": "RCqmtRbLb5hm"
      },
      "source": [
        "\n",
        "\n",
        "    \n",
        "**Explanation on Configuration 1 results:**  \n",
        "k=3 is a small neighbourhood size, focusing on the top 3 most similar users, enabling highly personalized predictions.\n",
        "The RMSE is lower than the baseline, which indicates better performance than NormalPredictor.\n"
      ]
    },
    {
      "cell_type": "code",
      "execution_count": null,
      "id": "t9QFJFscb5hm",
      "metadata": {
        "colab": {
          "base_uri": "https://localhost:8080/"
        },
        "id": "t9QFJFscb5hm",
        "outputId": "122572c7-a294-4352-a9d1-e5d0fac0112b"
      },
      "outputs": [
        {
          "name": "stdout",
          "output_type": "stream",
          "text": [
            "Computing the pearson similarity matrix...\n",
            "Done computing similarity matrix.\n",
            "Computing the pearson similarity matrix...\n",
            "Done computing similarity matrix.\n",
            "Computing the pearson similarity matrix...\n",
            "Done computing similarity matrix.\n",
            "Computing the pearson similarity matrix...\n",
            "Done computing similarity matrix.\n",
            "Computing the pearson similarity matrix...\n",
            "Done computing similarity matrix.\n",
            "Evaluating RMSE of algorithm KNNWithZScore on 5 split(s).\n",
            "\n",
            "                  Fold 1  Fold 2  Fold 3  Fold 4  Fold 5  Mean    Std     \n",
            "RMSE (testset)    0.9082  0.9100  0.9095  0.9077  0.9083  0.9087  0.0009  \n",
            "Fit time          23.80   23.85   24.38   23.93   24.52   24.10   0.29    \n",
            "Test time         33.58   32.90   33.97   33.41   33.91   33.55   0.39    \n"
          ]
        }
      ],
      "source": [
        "# Configuration 2: item-based, pearson similarity，k=10\n",
        "\n",
        "sim_options_2 = {\n",
        "    'name': 'pearson',\n",
        "    'user_based': False\n",
        "}\n",
        "algo2 = KNNWithZScore(k=10, sim_options=sim_options_2)\n",
        "results2 = cross_validate(algo2, data, measures=['RMSE'], cv=cv, verbose=True)"
      ]
    },
    {
      "cell_type": "code",
      "execution_count": null,
      "id": "xc_OGJdrb5hm",
      "metadata": {
        "colab": {
          "base_uri": "https://localhost:8080/"
        },
        "id": "xc_OGJdrb5hm",
        "outputId": "2e6abf10-0dfb-4745-9931-acc9ac9a33dd"
      },
      "outputs": [
        {
          "name": "stdout",
          "output_type": "stream",
          "text": [
            "Configuration 2: Item-based, Pearson, k=10\n",
            "Average RMSE: 0.9087\n"
          ]
        }
      ],
      "source": [
        "print(\"Configuration 2: Item-based, Pearson, k=10\")\n",
        "print(\"Average RMSE:\", round(results2['test_rmse'].mean(), 4))"
      ]
    },
    {
      "cell_type": "markdown",
      "id": "6Vbd6DoBb5hm",
      "metadata": {
        "id": "6Vbd6DoBb5hm"
      },
      "source": [
        "\n",
        "\n",
        "**Explanation on Configuration 2 results:**  \n",
        "It considers linear relationships between rating vectors.  Item-based similarity tends to be more stable than user-based similarity, especially in large datasets.  \n",
        "Increasing the number of neighbors to 10 further stabilizes predictions. The significantly lower RMSE demonstrates better generalization and predictive performance than the user-based configuration.\n"
      ]
    },
    {
      "cell_type": "code",
      "execution_count": null,
      "id": "bNKNHVScb5hm",
      "metadata": {
        "colab": {
          "base_uri": "https://localhost:8080/"
        },
        "id": "bNKNHVScb5hm",
        "outputId": "5a327f05-2142-4f03-8333-7037d3d97e2e",
        "scrolled": true
      },
      "outputs": [
        {
          "name": "stdout",
          "output_type": "stream",
          "text": [
            "Computing the cosine similarity matrix...\n",
            "Done computing similarity matrix.\n",
            "Computing the cosine similarity matrix...\n",
            "Done computing similarity matrix.\n",
            "Computing the cosine similarity matrix...\n",
            "Done computing similarity matrix.\n",
            "Computing the cosine similarity matrix...\n",
            "Done computing similarity matrix.\n",
            "Computing the cosine similarity matrix...\n",
            "Done computing similarity matrix.\n",
            "Computing the cosine similarity matrix...\n",
            "Done computing similarity matrix.\n",
            "Computing the cosine similarity matrix...\n",
            "Done computing similarity matrix.\n",
            "Computing the cosine similarity matrix...\n",
            "Done computing similarity matrix.\n",
            "Computing the cosine similarity matrix...\n",
            "Done computing similarity matrix.\n",
            "Computing the cosine similarity matrix...\n",
            "Done computing similarity matrix.\n",
            "Computing the pearson similarity matrix...\n",
            "Done computing similarity matrix.\n",
            "Computing the pearson similarity matrix...\n",
            "Done computing similarity matrix.\n",
            "Computing the pearson similarity matrix...\n",
            "Done computing similarity matrix.\n",
            "Computing the pearson similarity matrix...\n",
            "Done computing similarity matrix.\n",
            "Computing the pearson similarity matrix...\n",
            "Done computing similarity matrix.\n",
            "Computing the pearson similarity matrix...\n",
            "Done computing similarity matrix.\n",
            "Computing the pearson similarity matrix...\n",
            "Done computing similarity matrix.\n",
            "Computing the pearson similarity matrix...\n",
            "Done computing similarity matrix.\n",
            "Computing the pearson similarity matrix...\n",
            "Done computing similarity matrix.\n",
            "Computing the pearson similarity matrix...\n",
            "Done computing similarity matrix.\n",
            "Computing the cosine similarity matrix...\n",
            "Done computing similarity matrix.\n",
            "Computing the cosine similarity matrix...\n",
            "Done computing similarity matrix.\n",
            "Computing the cosine similarity matrix...\n",
            "Done computing similarity matrix.\n",
            "Computing the cosine similarity matrix...\n",
            "Done computing similarity matrix.\n",
            "Computing the cosine similarity matrix...\n",
            "Done computing similarity matrix.\n",
            "Computing the cosine similarity matrix...\n",
            "Done computing similarity matrix.\n",
            "Computing the cosine similarity matrix...\n",
            "Done computing similarity matrix.\n",
            "Computing the cosine similarity matrix...\n",
            "Done computing similarity matrix.\n",
            "Computing the cosine similarity matrix...\n",
            "Done computing similarity matrix.\n",
            "Computing the cosine similarity matrix...\n",
            "Done computing similarity matrix.\n",
            "Computing the pearson similarity matrix...\n",
            "Done computing similarity matrix.\n",
            "Computing the pearson similarity matrix...\n",
            "Done computing similarity matrix.\n",
            "Computing the pearson similarity matrix...\n",
            "Done computing similarity matrix.\n",
            "Computing the pearson similarity matrix...\n",
            "Done computing similarity matrix.\n",
            "Computing the pearson similarity matrix...\n",
            "Done computing similarity matrix.\n",
            "Computing the pearson similarity matrix...\n",
            "Done computing similarity matrix.\n",
            "Computing the pearson similarity matrix...\n",
            "Done computing similarity matrix.\n",
            "Computing the pearson similarity matrix...\n",
            "Done computing similarity matrix.\n",
            "Computing the pearson similarity matrix...\n",
            "Done computing similarity matrix.\n",
            "Computing the pearson similarity matrix...\n",
            "Done computing similarity matrix.\n",
            "Computing the cosine similarity matrix...\n",
            "Done computing similarity matrix.\n",
            "Computing the cosine similarity matrix...\n",
            "Done computing similarity matrix.\n",
            "Computing the cosine similarity matrix...\n",
            "Done computing similarity matrix.\n",
            "Computing the cosine similarity matrix...\n",
            "Done computing similarity matrix.\n",
            "Computing the cosine similarity matrix...\n",
            "Done computing similarity matrix.\n",
            "Computing the cosine similarity matrix...\n",
            "Done computing similarity matrix.\n",
            "Computing the cosine similarity matrix...\n",
            "Done computing similarity matrix.\n",
            "Computing the cosine similarity matrix...\n",
            "Done computing similarity matrix.\n",
            "Computing the cosine similarity matrix...\n",
            "Done computing similarity matrix.\n",
            "Computing the cosine similarity matrix...\n",
            "Done computing similarity matrix.\n",
            "Computing the pearson similarity matrix...\n",
            "Done computing similarity matrix.\n",
            "Computing the pearson similarity matrix...\n",
            "Done computing similarity matrix.\n",
            "Computing the pearson similarity matrix...\n",
            "Done computing similarity matrix.\n",
            "Computing the pearson similarity matrix...\n",
            "Done computing similarity matrix.\n",
            "Computing the pearson similarity matrix...\n",
            "Done computing similarity matrix.\n",
            "Computing the pearson similarity matrix...\n",
            "Done computing similarity matrix.\n",
            "Computing the pearson similarity matrix...\n",
            "Done computing similarity matrix.\n",
            "Computing the pearson similarity matrix...\n",
            "Done computing similarity matrix.\n",
            "Computing the pearson similarity matrix...\n",
            "Done computing similarity matrix.\n",
            "Computing the pearson similarity matrix...\n",
            "Done computing similarity matrix.\n"
          ]
        }
      ],
      "source": [
        "# Grid Search: testing different combinations of configurations\n",
        "\n",
        "# Define hyperparameter Grid\n",
        "param_grid = {\n",
        "    'k': [3, 5, 10],\n",
        "    'sim_options': {\n",
        "        'name': ['cosine', 'pearson'],\n",
        "        'user_based': [True, False]\n",
        "    }\n",
        "}\n",
        "\n",
        "# Use GridSearchCV to test all combinations using 5-fold cross-validation and evaluate with RMSE\n",
        "gs = GridSearchCV(KNNWithZScore, param_grid, measures=['rmse'], cv=cv)\n",
        "\n",
        "# Implement Grid Search\n",
        "gs.fit(data)"
      ]
    },
    {
      "cell_type": "code",
      "execution_count": null,
      "id": "0SeY_dG1b5hm",
      "metadata": {
        "colab": {
          "base_uri": "https://localhost:8080/"
        },
        "id": "0SeY_dG1b5hm",
        "outputId": "a4ee023e-ddd0-4387-b132-e5b14782c2f0"
      },
      "outputs": [
        {
          "name": "stdout",
          "output_type": "stream",
          "text": [
            "Best RMSE score: 0.9087448981409627\n",
            "Best parameters: {'k': 10, 'sim_options': {'name': 'pearson', 'user_based': False}}\n"
          ]
        }
      ],
      "source": [
        "# Output the best-performing model\n",
        "print(\"Best RMSE score:\", gs.best_score['rmse'])\n",
        "print(\"Best parameters:\", gs.best_params['rmse'])"
      ]
    },
    {
      "cell_type": "code",
      "execution_count": null,
      "id": "F8KYG5bwb5hm",
      "metadata": {
        "colab": {
          "base_uri": "https://localhost:8080/"
        },
        "id": "F8KYG5bwb5hm",
        "outputId": "aaf9546e-ae7f-48cf-d028-931745fb2ff3"
      },
      "outputs": [
        {
          "name": "stdout",
          "output_type": "stream",
          "text": [
            "Computing the pearson similarity matrix...\n",
            "Done computing similarity matrix.\n",
            "Computing the pearson similarity matrix...\n",
            "Done computing similarity matrix.\n",
            "Computing the pearson similarity matrix...\n",
            "Done computing similarity matrix.\n",
            "Computing the pearson similarity matrix...\n",
            "Done computing similarity matrix.\n",
            "Computing the pearson similarity matrix...\n",
            "Done computing similarity matrix.\n",
            "Evaluating RMSE of algorithm KNNWithZScore on 5 split(s).\n",
            "\n",
            "                  Fold 1  Fold 2  Fold 3  Fold 4  Fold 5  Mean    Std     \n",
            "RMSE (testset)    0.9082  0.9100  0.9095  0.9077  0.9083  0.9087  0.0009  \n",
            "Fit time          24.52   24.49   24.78   24.58   24.91   24.65   0.16    \n",
            "Test time         33.28   33.66   32.82   33.15   33.53   33.29   0.29    \n"
          ]
        }
      ],
      "source": [
        "# Re-train and re-evaluate the best model found by grid search\n",
        "best_algo = gs.best_estimator['rmse']\n",
        "results_KNN = cross_validate(best_algo, data, measures=['RMSE'], cv=cv, verbose=True)"
      ]
    },
    {
      "cell_type": "code",
      "execution_count": null,
      "id": "0QPSJwIRb5hm",
      "metadata": {
        "colab": {
          "base_uri": "https://localhost:8080/"
        },
        "id": "0QPSJwIRb5hm",
        "outputId": "2ce63bcc-2dd1-4eb2-e936-a2934bb06d52"
      },
      "outputs": [
        {
          "name": "stdout",
          "output_type": "stream",
          "text": [
            "Best configuration found by Grid Search:\n",
            "Similarity: pearson\n",
            "User-based: False\n",
            "k: 10\n",
            "Average RMSE: 0.9087\n"
          ]
        }
      ],
      "source": [
        "# Print final results\n",
        "print(\"Best configuration found by Grid Search:\")\n",
        "print(\"Similarity:\", gs.best_params['rmse']['sim_options']['name'])\n",
        "print(\"User-based:\", gs.best_params['rmse']['sim_options']['user_based'])\n",
        "print(\"k:\", gs.best_params['rmse']['k'])\n",
        "print(\"Average RMSE:\", round(results_KNN['test_rmse'].mean(), 4))"
      ]
    },
    {
      "cell_type": "markdown",
      "id": "347ef891-ceea-4582-b170-bb7cfe8c4f20",
      "metadata": {
        "id": "347ef891-ceea-4582-b170-bb7cfe8c4f20"
      },
      "source": [
        "\n",
        "**Explanation on Grid Search results:**  \n",
        "It optimizes the KNNWithZScore recommendation algorithm with hyperparameters using a grid search approach.\n",
        "The best configuration is found by considering the similarity relationship between items, using the Pearson correlation coefficient and a larger number of neighbors (10).\n"
      ]
    },
    {
      "cell_type": "markdown",
      "id": "8eb103cd-2267-4e34-b01c-9eff0520420a",
      "metadata": {
        "id": "8eb103cd-2267-4e34-b01c-9eff0520420a"
      },
      "source": [
        "\n",
        "\n",
        "**Overall Model Explanation:**  \n",
        "Overall, KNNWithZscore improves the comparability of ratings among users/items compared with the normal predictor. As for RMSE, the item-based Pearson similarity configuration is superior to the user-based configuration,\n",
        "which indicates the relationships between items are of more reference value for recommendations for this dataset. The results also show that parameter adjustment will significantly affect the recommendation quality.\n"
      ]
    },
    {
      "cell_type": "markdown",
      "id": "ZVvD4gzjbF2n",
      "metadata": {
        "id": "ZVvD4gzjbF2n"
      },
      "source": [
        "# 2.2 Matrix Factorization-based Method"
      ]
    },
    {
      "cell_type": "markdown",
      "id": "Zq7MtPpOePDr",
      "metadata": {
        "id": "Zq7MtPpOePDr"
      },
      "source": [
        "Different from the neighbourhood approach, which uses similarities between items or users, matrix factorisation-based methods utilise information from both sides. They put users and items into a shared latent factor space to capture interactions. As a model-based method, matrix factorisation approaches recommendation as a prediction problem, learning patterns from the latent space to estimate unknown ratings. The model chosen in this project is Singular Value Decomposition (SVD). It represents the data in a matrix where users are rows and items are columns. Since most users rate only a small portions of the entire item repository, this matrix is sparse. The missing values are what the model will be predicting as recommendations.\n",
        "\n",
        "The prediction task is formulated as a loss minimisation problem, which occurs in two stages. First, baseline predictions are computed using user and item deviations from their respective averages, without modeling their interactions. Second, user-item interactions are modeled by factorising the rating matrix into two latent feature matrices. One representing item characteristics, and the other representing the extent of interest users have in those features. The dot product of these two matrices adds user-item interactions into the model. Through Stochastic Gradient Descent (SGD) or Alternating Least Squares (ALS), optimal deviations and latent factors will be learned by minimising the errors between the predicted and actual ratings.\n",
        "\n",
        "The hyperparameters to be optimised in our model are the number of factors, regularisation rate and learning rate. These hyperparameters are explained below:\n",
        "\n",
        "*   number of factors: It defines the number of latent factors to represent users and items. Higher values allow the matrices to capture more nuanced interactions, thus increasing the model complexity.  \n",
        "*   regularisation rate: Due to the sparsity of the matrix, the model is prone to overfitting. Regularisation helps to avoid overfitting by penalising large parameter values. The larger the regularisation rate, the heavier the penalisation. In SVD, regularisation is applied to user and item deviations, the overall deviation, and the two latent factor matrices.\n",
        "*   learning rate: It controls the speed of the gradient descent. A higher learning rate leads to faster convergence but risks overshooting the optimal point. Similar to the regularisation rate, different learning rates are also applied to each parameter in the model. Due to computational constraints, these two rates will be tuned globally for all the parameter."
      ]
    },
    {
      "cell_type": "code",
      "execution_count": null,
      "id": "b75d7f16-c4bf-4f72-bfac-1c2e9c1dc4e1",
      "metadata": {
        "id": "b75d7f16-c4bf-4f72-bfac-1c2e9c1dc4e1"
      },
      "outputs": [],
      "source": [
        "# hyperparameter tuning\n",
        "param_grid_SDV = {'n_factors': [95, 100, 110],\n",
        "                  'lr_all': [0.018, 0.02, 0.022],\n",
        "                  'reg_all': [0.07, 0.08, 0.09]\n",
        "                  }\n",
        "grid_search_SDV = GridSearchCV(SVD,\n",
        "                               param_grid_SDV,\n",
        "                               measures=['rmse'],\n",
        "                               cv=cv)\n",
        "grid_search_SDV.fit(data)"
      ]
    },
    {
      "cell_type": "code",
      "execution_count": null,
      "id": "SdZ_Optvz40q",
      "metadata": {
        "colab": {
          "base_uri": "https://localhost:8080/"
        },
        "id": "SdZ_Optvz40q",
        "outputId": "8b1787f0-d5d4-4a3d-d514-885e9df3a785"
      },
      "outputs": [
        {
          "name": "stdout",
          "output_type": "stream",
          "text": [
            "0.8377733916626768\n",
            "{'rmse': {'n_factors': 100, 'lr_all': 0.02, 'reg_all': 0.08}}\n"
          ]
        }
      ],
      "source": [
        "# get the score and parameters for the best configuration\n",
        "print(grid_search_SDV.best_score['rmse'])\n",
        "print(grid_search_SDV.best_params)"
      ]
    },
    {
      "cell_type": "code",
      "execution_count": null,
      "id": "BQNNIoyuz1-F",
      "metadata": {
        "colab": {
          "base_uri": "https://localhost:8080/"
        },
        "id": "BQNNIoyuz1-F",
        "outputId": "f74a1de3-38d6-42cb-bb34-658b36d7e3b8"
      },
      "outputs": [
        {
          "name": "stdout",
          "output_type": "stream",
          "text": [
            "Evaluating RMSE, MAE of algorithm SVD on 5 split(s).\n",
            "\n",
            "                  Fold 1  Fold 2  Fold 3  Fold 4  Fold 5  Mean    Std     \n",
            "RMSE (testset)    0.8379  0.8399  0.8395  0.8369  0.8367  0.8382  0.0013  \n",
            "MAE (testset)     0.6377  0.6394  0.6400  0.6383  0.6379  0.6386  0.0009  \n",
            "RMSE (trainset)   0.6007  0.6011  0.6013  0.6010  0.6018  0.6012  0.0004  \n",
            "MAE (trainset)    0.4644  0.4647  0.4648  0.4646  0.4652  0.4647  0.0003  \n",
            "Fit time          10.45   10.75   10.80   10.80   10.75   10.71   0.13    \n",
            "Test time         1.28    1.80    1.71    1.71    1.67    1.63    0.18    \n",
            "The avereage RMSE of tuned SDV is: 0.8382036814204795\n"
          ]
        }
      ],
      "source": [
        "# cross validation\n",
        "SDV_means_best = grid_search_SDV.best_estimator['rmse']\n",
        "results_SDV = cross_validate(SDV_means_best, data, cv=cv, return_train_measures=True, verbose=True)\n",
        "print('The avereage RMSE of tuned SDV is:', np.mean(results_SDV['test_rmse']))"
      ]
    },
    {
      "cell_type": "markdown",
      "id": "K3S1noTDMagH",
      "metadata": {
        "id": "K3S1noTDMagH"
      },
      "source": [
        "To optimise the performance of the SVD model, several rounds of hyperparameters tuning were conducted. The process began with a broad grid centered around the default values. The initial results showed that moderate model complexity, with n_factors between 80 and 100, performed best. This range allowed the model to learn meaningful patterns while avoid overfitting.\n",
        "\n",
        "Throughout the process, higher learning rates and stronger regularisations were consistently preferred, confirming that the model was prone to overfitting. By pushing the two values to the higher end, they finalised respectively at 0.02 and 0.08, beyond which no further improvement was observed. This configuration achieved a balance between model complexity and generalisation.\n",
        "\n",
        "Comparing the model evaluation with the grid search result, the closeness of the two RMSE scores suggests that the model generalised well and was not showing evident signs of overfitting. The average difference between the predictions and the actual ratings (RMSE) on the test set is 0.8382 with a small standard deviation of 0.0013, indicating stable performance across folds."
      ]
    },
    {
      "cell_type": "markdown",
      "id": "r-01GYNU0XyT",
      "metadata": {
        "id": "r-01GYNU0XyT"
      },
      "source": [
        "# 2.3 Model Comparison"
      ]
    },
    {
      "cell_type": "markdown",
      "id": "9ubForOzCVI4",
      "metadata": {
        "id": "9ubForOzCVI4"
      },
      "source": [
        "In our comparison, NormalPredictor, as the baseline, performed the worst with an RMSE of 1.4998. KNNWithZScore came second with an RMSE of 0.9087, while SVD achieved the best performance with an average RMSE of 0.8397. Model-based method outperformed both the neighbourhood-based method and the baseline.\n",
        "\n",
        "The baseline model has the simpliest model structure. It predicts ratings by randomly drawing values from a normal distribution that matches the mean and standard deviation of the known ratings. It does not take user preferences or item characteristics into account, which explains the poor predictive performance.\n",
        "\n",
        "The better score of SVD compared to KNNWithZScore might be due to the fact that the latent factors in the matrix factorisation-based models can capture more various aspects of information. These factors encode broader range of item characteristics beyond direct similarity calculations. In particular, SVD models user-item interactions, rather than considering users and items separately. Furthermore, KNNWithZscore is a more localised method. It relies on the relationship amongst the nearest neighbours, while SDV can take a global view of the overall relationships using the matrices. This access to global patterns might contribute to better prediction result."
      ]
    },
    {
      "cell_type": "code",
      "execution_count": null,
      "id": "GaeIncxTze0F",
      "metadata": {
        "colab": {
          "base_uri": "https://localhost:8080/"
        },
        "id": "GaeIncxTze0F",
        "outputId": "fa4f13d8-4332-4a10-cefa-65300508f019"
      },
      "outputs": [
        {
          "name": "stdout",
          "output_type": "stream",
          "text": [
            "The No.1 average RMSE result is SDV with the score of 0.8378\n",
            "The No.2 average RMSE result is KNNWithZscore with the score of 0.9087\n",
            "The No.3 average RMSE result is NormalPredictor with the score of 1.4998\n"
          ]
        }
      ],
      "source": [
        "# compare the best result from each model\n",
        "results = [('NormalPredictor', round(np.mean(results_baseline['test_rmse']), 4)),\n",
        "           ('KNNWithZscore', round(np.mean(results_KNN['test_rmse']), 4)),\n",
        "           ('SDV', round(np.mean(results_SDV['test_rmse']), 4))]\n",
        "results_sorted = sorted(results, key=lambda x: x[1], reverse=False)\n",
        "for i in range(len(results_sorted)):\n",
        "  print('The No.{} average RMSE result is {} with the score of {}'.format(i+1, results_sorted[i][0], results_sorted[i][1]))"
      ]
    }
  ],
  "metadata": {
    "accelerator": "TPU",
    "colab": {
      "gpuType": "V28",
      "machine_shape": "hm",
      "provenance": []
    },
    "kernelspec": {
      "display_name": "Python 3 (ipykernel)",
      "language": "python",
      "name": "python3"
    },
    "language_info": {
      "codemirror_mode": {
        "name": "ipython",
        "version": 3
      },
      "file_extension": ".py",
      "mimetype": "text/x-python",
      "name": "python",
      "nbconvert_exporter": "python",
      "pygments_lexer": "ipython3",
      "version": "3.11.11"
    }
  },
  "nbformat": 4,
  "nbformat_minor": 5
}